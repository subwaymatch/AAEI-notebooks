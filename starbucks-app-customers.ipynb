{
 "cells": [
  {
   "cell_type": "markdown",
   "metadata": {
    "nbgrader": {
     "grade": false,
     "locked": true,
     "solution": false
    }
   },
   "source": [
    "# Analyzing Starbucks App Data\n",
    "\n",
    "This case was created for the AAEI Data Analytics Module."
   ]
  },
  {
   "cell_type": "markdown",
   "metadata": {
    "id": "DiznwS2xem7h",
    "nbgrader": {
     "grade": false,
     "locked": true,
     "solution": false
    }
   },
   "source": [
    "▶️ First, run the code cell below to import `unittest`, a module used for **🧭 Check Your Work** sections."
   ]
  },
  {
   "cell_type": "code",
   "execution_count": null,
   "metadata": {
    "collapsed": true,
    "id": "xOFvIip0em7h",
    "nbgrader": {
     "grade": false,
     "locked": false,
     "solution": false
    }
   },
   "outputs": [],
   "source": [
    "# DO NOT MODIFY THE CODE IN THIS CELL\n",
    "import unittest\n",
    "tc = unittest.TestCase()"
   ]
  },
  {
   "cell_type": "markdown",
   "metadata": {
    "nbgrader": {
     "grade": false,
     "locked": true,
     "solution": false
    }
   },
   "source": [
    "---\n",
    "\n",
    "### 🎯 Part 1: Import Pandas and NumPy"
   ]
  },
  {
   "cell_type": "markdown",
   "metadata": {
    "id": "i3PWWkSaem7i",
    "nbgrader": {
     "grade": false,
     "locked": true,
     "solution": false
    }
   },
   "source": [
    "#### 👇 Tasks\n",
    "\n",
    "- ✔️ Import the following Python packages.\n",
    "    1. `pandas`: Use alias `pd`.\n",
    "    2. `numpy`: Use alias `np`."
   ]
  },
  {
   "cell_type": "code",
   "execution_count": null,
   "metadata": {
    "collapsed": true,
    "id": "jfnhv8_Yem7j"
   },
   "outputs": [],
   "source": [
    "### BEGIN SOLUTION\n",
    "import pandas as pd\n",
    "import numpy as np\n",
    "### END SOLUTION"
   ]
  },
  {
   "cell_type": "markdown",
   "metadata": {
    "id": "EdrK-mBsem7r",
    "nbgrader": {
     "grade": false,
     "locked": true,
     "solution": false
    }
   },
   "source": [
    "#### 🧭 Check Your Work\n",
    "\n",
    "- Once you're done, run the code cell below to test correctness.\n",
    "- ✔️ If the code cell runs without an error, you're good to move on.\n",
    "- ❌ If the code cell throws an error, go back and fix any incorrect parts."
   ]
  },
  {
   "cell_type": "code",
   "execution_count": null,
   "metadata": {
    "collapsed": true,
    "nbgrader": {
     "grade": true,
     "grade_id": "part-01",
     "locked": true,
     "points": "2",
     "solution": false
    }
   },
   "outputs": [],
   "source": [
    "# DO NOT CHANGE THE CODE IN THIS CELL\n",
    "tc.assertTrue(\"pd\" in globals(), \"Check whether you have correctly import Pandas with an alias.\")\n",
    "tc.assertTrue(\"np\" in globals(), \"Check whether you have correctly import NumPy with an alias.\")"
   ]
  },
  {
   "cell_type": "markdown",
   "metadata": {
    "nbgrader": {
     "grade": false,
     "locked": true,
     "solution": false
    }
   },
   "source": [
    "---\n",
    "\n",
    "### 📌 Load data\n",
    "\n",
    "Throughout this problem set, you'll work with the Starbucks Customer Rewards Program dataset. ☕ The dataset was originally released as a part of a capstone project of a Udacity course.\n",
    "\n",
    "For the purpose of this course, the original dataset in JSON format has been transformed to CSV files for convenience. You can download the original JSON files [here](https://www.kaggle.com/blacktile/starbucks-app-customer-reward-program-data?select=portfolio.json).\n",
    "\n",
    "▶️ Run the code cell below to read the transcripts data into `df_transcript`."
   ]
  },
  {
   "cell_type": "code",
   "execution_count": null,
   "metadata": {
    "collapsed": true,
    "nbgrader": {
     "grade": false,
     "locked": false,
     "solution": false
    }
   },
   "outputs": [],
   "source": [
    "# DO NOT CHANGE THE CODE IN THIS CELL\n",
    "df_transcript = pd.read_csv('transcript.csv.gz')\n",
    "\n",
    "# Used for intermediate checks\n",
    "df_transcript_backup = df_transcript.copy()\n",
    "\n",
    "# Print 10 last rows\n",
    "df_transcript.tail(10)"
   ]
  },
  {
   "cell_type": "markdown",
   "metadata": {
    "id": "LI33A8-jem7m",
    "nbgrader": {
     "grade": false,
     "locked": true,
     "solution": false
    }
   },
   "source": [
    "The table below describes the columns in `df_transcript`.\n",
    "\n",
    "| Field | Description |\n",
    "|---|---|\n",
    "| member_id | Member ID |\n",
    "| event | Type of event ('offer received',   'offer completed', 'transaction') |\n",
    "| time | Time as continuous value |\n",
    "| offer_id | Offer ID |\n",
    "| amount | Amount of purchase or NaN if   non-purchase |"
   ]
  },
  {
   "cell_type": "markdown",
   "metadata": {
    "id": "Dg-bBkF8fGaN",
    "nbgrader": {
     "grade": false,
     "locked": true,
     "solution": false
    }
   },
   "source": [
    "---\n",
    "\n",
    "### 🎯 Part 2: Find the number of rows and columns\n",
    "\n",
    "#### 👇 Tasks\n",
    "\n",
    "- ✔️ Store the number of rows in `df_transcript` to a new variable named `num_rows`.\n",
    "- ✔️ Store the number of columns in `df_transcript` to a new variable named `num_cols`.\n",
    "- ✔️ Use `.shape`, not `len()`."
   ]
  },
  {
   "cell_type": "code",
   "execution_count": null,
   "metadata": {
    "collapsed": true,
    "nbgrader": {
     "grade": false,
     "locked": false,
     "solution": false
    }
   },
   "outputs": [],
   "source": [
    "### BEGIN SOLUTION\n",
    "num_rows = df_transcript.shape[0]\n",
    "num_cols = df_transcript.shape[1]\n",
    "### END SOLUTION\n",
    "\n",
    "print(f\"Number of rows: {num_rows}\")\n",
    "print(f\"Number of columns: {num_cols}\")"
   ]
  },
  {
   "cell_type": "markdown",
   "metadata": {
    "id": "EdrK-mBsem7r",
    "nbgrader": {
     "grade": false,
     "locked": true,
     "solution": false
    }
   },
   "source": [
    "#### 🧭 Check Your Work\n",
    "\n",
    "- Once you're done, run the code cell below to test correctness.\n",
    "- ✔️ If the code cell runs without an error, you're good to move on.\n",
    "- ❌ If the code cell throws an error, go back and fix any incorrect parts."
   ]
  },
  {
   "cell_type": "code",
   "execution_count": null,
   "metadata": {
    "collapsed": true,
    "nbgrader": {
     "grade": true,
     "grade_id": "part-02",
     "locked": true,
     "points": "2",
     "solution": false
    }
   },
   "outputs": [],
   "source": [
    "tc.assertEqual(num_rows, len(df_transcript_backup.index), f\"Number of rows should be {len(df_transcript_backup.index)}\")\n",
    "tc.assertEqual(num_cols, len(df_transcript_backup.columns), f\"Number of columns should be {len(df_transcript_backup.columns)}\")"
   ]
  },
  {
   "cell_type": "markdown",
   "metadata": {
    "id": "Dg-bBkF8fGaN"
   },
   "source": [
    "---\n",
    "\n",
    "### 🎯 Part 3: Find all customer purchases\n",
    "\n",
    "▶️ First, run the code cell below to print out all event types recorded in `df_transcript`."
   ]
  },
  {
   "cell_type": "code",
   "execution_count": null,
   "metadata": {
    "collapsed": true,
    "nbgrader": {
     "grade": false,
     "locked": false,
     "solution": false
    }
   },
   "outputs": [],
   "source": [
    "# NO NEED TO CHANGE THE CODE BELOW\n",
    "list(df_transcript[\"event\"].unique())"
   ]
  },
  {
   "cell_type": "markdown",
   "metadata": {},
   "source": [
    "There are four event types. We'll first only look at customer purchases (transactions).\n",
    "\n",
    "#### 👇 Tasks\n",
    "\n",
    "- ✔️ Using `df_transcript`, find rows where the `event` is `\"transaction\"`.\n",
    "    - We're excluding any events related to loyalty offers for now.\n",
    "- ✔️ Store the filtered rows to `df_transactions`.\n",
    "- ✔️ `df_transcript` should remain unaltered.\n",
    "\n",
    "#### 🔑 Expected Output of `df_transactions.head(3)`\n",
    "\n",
    "|       |                        member_id |       event | time | offer_id | amount |\n",
    "|------:|---------------------------------:|------------:|-----:|---------:|-------:|\n",
    "| 12654 | 02c083884c7d45b39cc68e1314fec56c | transaction |    0 |      NaN |   0.83 |\n",
    "| 12657 | 9fa9ae8f57894cc9a3b8a9bbe0fc1b2f | transaction |    0 |      NaN |  34.56 |\n",
    "| 12659 | 54890f68699049c2a04d415abc25e717 | transaction |    0 |      NaN |  13.23 |"
   ]
  },
  {
   "cell_type": "code",
   "execution_count": null,
   "metadata": {
    "collapsed": true
   },
   "outputs": [],
   "source": [
    "### BEGIN SOLUTION\n",
    "df_transactions = df_transcript[df_transcript[\"event\"] == \"transaction\"]\n",
    "### END SOLUTION\n",
    "\n",
    "df_transactions.head(3)"
   ]
  },
  {
   "cell_type": "markdown",
   "metadata": {
    "id": "EdrK-mBsem7r"
   },
   "source": [
    "#### 🧭 Check Your Work\n",
    "\n",
    "- Once you're done, run the code cell below to test correctness.\n",
    "- ✔️ If the code cell runs without an error, you're good to move on.\n",
    "- ❌ If the code cell throws an error, go back and fix any incorrect parts."
   ]
  },
  {
   "cell_type": "code",
   "execution_count": null,
   "metadata": {
    "collapsed": true,
    "nbgrader": {
     "grade": true,
     "grade_id": "part-03",
     "locked": true,
     "points": "2",
     "solution": false
    }
   },
   "outputs": [],
   "source": [
    "# DO NOT CHANGE THE CODE IN THIS CELL\n",
    "# df_you should remain unaltered\n",
    "pd.testing.assert_frame_equal(df_transcript, df_transcript_backup, \"The original DataFrame should remain unaltered\")\n",
    "\n",
    "# Check result\n",
    "pd.testing.assert_frame_equal(df_transactions.sort_values(df_transactions.columns.to_list()).reset_index(drop=True),\n",
    "                              df_transcript_backup.query('event == \"transaction\"')\n",
    "                                 .sort_values(df_transcript_backup.columns.tolist()).reset_index(drop=True))"
   ]
  },
  {
   "cell_type": "markdown",
   "metadata": {},
   "source": [
    "---\n",
    "\n",
    "### 🎯 Part 4: Drop unused columns\n",
    "\n",
    "▶️ Before proceeding, run the code cell below."
   ]
  },
  {
   "cell_type": "code",
   "execution_count": null,
   "metadata": {
    "collapsed": true
   },
   "outputs": [],
   "source": [
    "# DO NOT CHANGE THE CODE BELOW\n",
    "df_transactions = df_transactions.copy()"
   ]
  },
  {
   "cell_type": "markdown",
   "metadata": {
    "nbgrader": {
     "grade": false,
     "locked": true,
     "solution": false
    }
   },
   "source": [
    "#### 👇 Tasks\n",
    "\n",
    "- ✔️ Drop `event`, `time`, and `offer_id` columns from `df_transactions` **in-place**.\n",
    "- ✔️ You should directly drop the columns from `df_transactions` using the `inplace=True` option.\n",
    "\n",
    "#### 🚀 Hints\n",
    "\n",
    "Use the following code as a reference.\n",
    "\n",
    "```python\n",
    "my_dataframe.drop(columns=[\"my_column1\", \"my_column2\"], inplace=True)\n",
    "```\n",
    "\n",
    "#### 🔑 Expected Output\n",
    "\n",
    "|       |                        member_id | amount |\n",
    "|------:|---------------------------------:|-------:|\n",
    "| 12654 | 02c083884c7d45b39cc68e1314fec56c |   0.83 |\n",
    "| 12657 | 9fa9ae8f57894cc9a3b8a9bbe0fc1b2f |  34.56 |\n",
    "| 12659 | 54890f68699049c2a04d415abc25e717 |  13.23 |"
   ]
  },
  {
   "cell_type": "code",
   "execution_count": null,
   "metadata": {
    "collapsed": true
   },
   "outputs": [],
   "source": [
    "### BEGIN SOLUTION\n",
    "df_transactions.drop(columns=[\"event\", \"time\", \"offer_id\"], inplace=True)\n",
    "### END SOLUTION\n",
    "\n",
    "df_transactions.head(3)"
   ]
  },
  {
   "cell_type": "markdown",
   "metadata": {
    "id": "EdrK-mBsem7r",
    "nbgrader": {
     "grade": false,
     "locked": true,
     "solution": false
    }
   },
   "source": [
    "#### 🧭 Check Your Work\n",
    "\n",
    "- Once you're done, run the code cell below to test correctness.\n",
    "- ✔️ If the code cell runs without an error, you're good to move on.\n",
    "- ❌ If the code cell throws an error, go back and fix any incorrect parts."
   ]
  },
  {
   "cell_type": "code",
   "execution_count": null,
   "metadata": {
    "collapsed": true,
    "nbgrader": {
     "grade": true,
     "grade_id": "part-04",
     "locked": true,
     "points": "2",
     "solution": false
    }
   },
   "outputs": [],
   "source": [
    "# DO NOT CHANGE THE CODE IN THIS CELL\n",
    "df_check = df_transcript_backup.query('event == \"transaction\"')[['member_id', 'amount']]\n",
    "\n",
    "# Check result\n",
    "pd.testing.assert_frame_equal(df_transactions.sort_values(df_transactions.columns.to_list()).reset_index(drop=True),\n",
    "                              df_check.sort_values(df_check.columns.tolist()).reset_index(drop=True))"
   ]
  },
  {
   "cell_type": "markdown",
   "metadata": {
    "nbgrader": {
     "grade": false,
     "locked": true,
     "solution": false
    }
   },
   "source": [
    "---\n",
    "\n",
    "### 🎯 Part 5: Mean, max, and median transaction amount\n",
    "\n",
    "#### 👇 Tasks\n",
    "\n",
    "- ✔️ Find the mean (average), max, and median of all purchase amounts.\n",
    "    - Use the `amount` column in `df_transactions`.\n",
    "- ✔️ Store the calculated results to the following three new variables:\n",
    "    - `amount_mean`: Average transaction amount\n",
    "    - `amount_median`: Median transaction amount\n",
    "    - `amount_max`: Maximum transaction amount\n",
    "\n",
    "#### 🚀 Hints\n",
    "\n",
    "```python\n",
    "my_series.mean()   # Returns the mean of a Series\n",
    "my_series.median() # Returns the median of a Series\n",
    "my_series.max()    # Returns the max of a Series\n",
    "```\n",
    "\n",
    "#### 🔑 Expected Output\n",
    "\n",
    "`mean=12.78, median=8.89, max=1062.28`"
   ]
  },
  {
   "cell_type": "code",
   "execution_count": null,
   "metadata": {
    "collapsed": true
   },
   "outputs": [],
   "source": [
    "### BEGIN SOLUTION\n",
    "amount_mean = df_transactions['amount'].mean()\n",
    "amount_median = df_transactions['amount'].median()\n",
    "amount_max = df_transactions['amount'].max()\n",
    "### END SOLUTION\n",
    "\n",
    "print(f'mean={amount_mean:.2f}, median={amount_median:.2f}, max={amount_max:.2f}')"
   ]
  },
  {
   "cell_type": "markdown",
   "metadata": {
    "id": "EdrK-mBsem7r",
    "nbgrader": {
     "grade": false,
     "locked": true,
     "solution": false
    }
   },
   "source": [
    "#### 🧭 Check Your Work\n",
    "\n",
    "- Once you're done, run the code cell below to test correctness.\n",
    "- ✔️ If the code cell runs without an error, you're good to move on.\n",
    "- ❌ If the code cell throws an error, go back and fix any incorrect parts."
   ]
  },
  {
   "cell_type": "code",
   "execution_count": null,
   "metadata": {
    "collapsed": true,
    "nbgrader": {
     "grade": true,
     "grade_id": "part-05",
     "locked": true,
     "points": "2",
     "solution": false
    }
   },
   "outputs": [],
   "source": [
    "# DO NOT CHANGE THE CODE IN THIS CELL\n",
    "tc.assertAlmostEqual(amount_mean, 12.777356156398204)\n",
    "tc.assertAlmostEqual(amount_median, 8.89)\n",
    "tc.assertAlmostEqual(amount_max, 1062.28)"
   ]
  },
  {
   "cell_type": "markdown",
   "metadata": {
    "nbgrader": {
     "grade": false,
     "locked": true,
     "solution": false
    }
   },
   "source": [
    "---\n",
    "\n",
    "### 📌 Load customer profiles\n",
    "\n",
    "We want to go further with the purchase data analysis by looking at the customers. Unfortunately, the information we currently have about the customers in each purchase is limited. We only have their unique IDs (e.g., `02c083884c7d45b39cc68e1314fec56c`, `9fa9ae8f57894cc9a3b8a9bbe0fc1b2f`).\n",
    "\n",
    "In the next few steps, you'll read the customer profiles data and link them to `df_transactions` using `member_id`.\n",
    "\n",
    "▶️ Run the code cell below to read the customer profiles data into `df_profiles`."
   ]
  },
  {
   "cell_type": "code",
   "execution_count": null,
   "metadata": {
    "collapsed": true
   },
   "outputs": [],
   "source": [
    "# DO NOT CHANGE THE CODE IN THIS CELL\n",
    "df_profiles = pd.read_csv('profile.csv')\n",
    "\n",
    "# Used for intermediate checks\n",
    "df_profiles_backup = df_profiles.copy()\n",
    "\n",
    "# Print first 10 rows\n",
    "df_profiles.head(10)"
   ]
  },
  {
   "cell_type": "markdown",
   "metadata": {
    "id": "LI33A8-jem7m",
    "nbgrader": {
     "grade": false,
     "locked": true,
     "solution": false
    }
   },
   "source": [
    "The table below describes the columns in `df_profiles`.\n",
    "\n",
    "| Field | Description |\n",
    "|---|---|\n",
    "| member_id | Unique identifier for each Starbucks app member |\n",
    "| gender | Gender (NaN if unknown) |\n",
    "| age | Age (NaN if unknown) |\n",
    "| became_member_on | Sign-up date |\n",
    "| income | Annual income (NaN if unknown) |"
   ]
  },
  {
   "cell_type": "markdown",
   "metadata": {
    "nbgrader": {
     "grade": false,
     "locked": true,
     "solution": false
    }
   },
   "source": [
    "---\n",
    "\n",
    "### 🎯 Part 6: Find the number of rows with missing gender value\n",
    "\n",
    "#### 👇 Tasks\n",
    "\n",
    "- ✔️ Find the number of rows where the value in the `gender` column is missing (`NaN`).\n",
    "- ✔️ Store the count to a new variable named `num_missing`.\n",
    "\n",
    "#### 🚀 Hints\n",
    "\n",
    "1. `df[\"my_column\"].isna()` returns a Series of boolean values where rows with missing values return `True`.\n",
    "2. `my_boolean_series.sum()` returns the number of `True` values in a boolean Series.\n",
    "\n",
    "#### 🔑 Expected Output\n",
    "\n",
    "`There are 2175 rows where the gender value is missing.`"
   ]
  },
  {
   "cell_type": "code",
   "execution_count": null,
   "metadata": {
    "collapsed": true
   },
   "outputs": [],
   "source": [
    "### BEGIN SOLUTION\n",
    "num_missing = df_profiles[\"gender\"].isna().sum()\n",
    "### END SOLUTION\n",
    "\n",
    "print(f'There are {num_missing} rows where the gender value is missing.')"
   ]
  },
  {
   "cell_type": "markdown",
   "metadata": {
    "id": "EdrK-mBsem7r",
    "nbgrader": {
     "grade": false,
     "locked": true,
     "solution": false
    }
   },
   "source": [
    "#### 🧭 Check Your Work\n",
    "\n",
    "- Once you're done, run the code cell below to test correctness.\n",
    "- ✔️ If the code cell runs without an error, you're good to move on.\n",
    "- ❌ If the code cell throws an error, go back and fix any incorrect parts."
   ]
  },
  {
   "cell_type": "code",
   "execution_count": null,
   "metadata": {
    "collapsed": true,
    "nbgrader": {
     "grade": true,
     "grade_id": "part-06",
     "locked": true,
     "points": "2",
     "solution": false
    }
   },
   "outputs": [],
   "source": [
    "# DO NOT CHANGE THE CODE IN THIS CELL\n",
    "tc.assertEqual(num_missing, 2175)"
   ]
  },
  {
   "cell_type": "markdown",
   "metadata": {
    "nbgrader": {
     "grade": false,
     "locked": true,
     "solution": false
    }
   },
   "source": [
    "---\n",
    "\n",
    "### 🎯 Part 7: Remove rows with missing values\n",
    "\n",
    "#### 👇 Tasks\n",
    "\n",
    "- ✔️ Update `df_profiles` so that it only contains rows where `gender` is NOT missing.\n",
    "\n",
    "#### 🚀 Hints\n",
    "\n",
    "```python\n",
    "df = df[df['some_column'].notna()]\n",
    "```\n",
    "\n",
    "#### 🔑 Expected Output\n",
    "\n",
    "|  | member_id | gender | age | became_member_on | income |\n",
    "|---:|---:|---:|---:|---:|---:|\n",
    "| 1 | 0610b486422d4921ae7d2bf64640c50b | F | 55.0 | 2017-07-15 | 112000.0 |\n",
    "| 3 | 78afa995795e4d85b5d9ceeca43f5fef | F | 75.0 | 2017-05-09 | 100000.0 |\n",
    "| 5 | e2127556f4f64592b11af22de27a7932 | M | 68.0 | 2018-04-26 | 70000.0 |\n",
    "| 8 | 389bc3fa690240e798340f5a15918d5c | M | 65.0 | 2018-02-09 | 53000.0 |\n",
    "| 12 | 2eeac8d8feae4a8cad5a6af0499a211d | M | 58.0 | 2017-11-11 | 51000.0 |"
   ]
  },
  {
   "cell_type": "code",
   "execution_count": null,
   "metadata": {
    "collapsed": true
   },
   "outputs": [],
   "source": [
    "### BEGIN SOLUTION\n",
    "df_profiles = df_profiles[df_profiles['gender'].notna()]\n",
    "### END SOLUTION\n",
    "\n",
    "df_profiles.head(5)"
   ]
  },
  {
   "cell_type": "markdown",
   "metadata": {
    "id": "EdrK-mBsem7r"
   },
   "source": [
    "#### 🧭 Check Your Work\n",
    "\n",
    "- Once you're done, run the code cell below to test correctness.\n",
    "- ✔️ If the code cell runs without an error, you're good to move on.\n",
    "- ❌ If the code cell throws an error, go back and fix any incorrect parts."
   ]
  },
  {
   "cell_type": "code",
   "execution_count": null,
   "metadata": {
    "collapsed": true,
    "nbgrader": {
     "grade": true,
     "grade_id": "part-07",
     "locked": true,
     "points": "2",
     "solution": false
    }
   },
   "outputs": [],
   "source": [
    "# DO NOT CHANGE THE CODE IN THIS CELL\n",
    "df_check = df_profiles_backup.query('gender == gender')\n",
    "\n",
    "# Check result\n",
    "pd.testing.assert_frame_equal(df_profiles.sort_values(df_profiles.columns.to_list()).reset_index(drop=True),\n",
    "                              df_check.sort_values(df_check.columns.tolist()).reset_index(drop=True))"
   ]
  },
  {
   "cell_type": "markdown",
   "metadata": {
    "nbgrader": {
     "grade": false,
     "locked": true,
     "solution": false
    }
   },
   "source": [
    "---\n",
    "\n",
    "### 🎯 Part 8: Merge profiles into transactions\n",
    "\n",
    "▶️ Run the code below to:\n",
    "1. Convert `age` and `income` columns in `df_profiles` to integer types (from float types).\n",
    "2. Print out the first three rows of `df_transactions` and `df_profiles`."
   ]
  },
  {
   "cell_type": "code",
   "execution_count": null,
   "metadata": {
    "collapsed": true
   },
   "outputs": [],
   "source": [
    "# Convert age and income to int64 types\n",
    "df_profiles['age'] = df_profiles['age'].astype(np.int64)\n",
    "df_profiles['income'] = df_profiles['income'].astype(np.int64)\n",
    "\n",
    "display(df_transactions.head(3))\n",
    "display(df_profiles.head(3))"
   ]
  },
  {
   "cell_type": "markdown",
   "metadata": {
    "nbgrader": {
     "grade": false,
     "locked": true,
     "solution": false
    }
   },
   "source": [
    "#### 👇 Tasks\n",
    "\n",
    "- ✔️ Merge `df_transactions` and `df_profiles` using an **inner** join type.\n",
    "    - By using an inner join, we are intentionally removing transactions made by customers with missing gender information.\n",
    "    - Don't worry about the different types of joins yet. Google \"pandas types of joins\" if you'd like to find out more.\n",
    "- ✔️ Place `df_transactions` on the \"left\" side.\n",
    "- ✔️ Store the merged DataFrame to `df_merged`.\n",
    "\n",
    "#### 🚀 Hints\n",
    "\n",
    "```python\n",
    "my_merged_dataframe = pd.merge(\n",
    "    left=left_dataframe,\n",
    "    right=right_dataframe,\n",
    "    on='shared_key_column',\n",
    "    how='inner'\n",
    ")\n",
    "```\n",
    "\n",
    "#### 🔑 Expected Output\n",
    "\n",
    "|  | member_id | amount | gender | age | became_member_on | income |\n",
    "|---:|---:|---:|---:|---:|---:|---:|\n",
    "| 0 | 02c083884c7d45b39cc68e1314fec56c | 0.83 | F | 20 | 2016-07-11 | 30000 |\n",
    "| 1 | 02c083884c7d45b39cc68e1314fec56c | 1.44 | F | 20 | 2016-07-11 | 30000 |\n",
    "| 2 | 02c083884c7d45b39cc68e1314fec56c | 4.56 | F | 20 | 2016-07-11 | 30000 |\n",
    "| 3 | 02c083884c7d45b39cc68e1314fec56c | 1.53 | F | 20 | 2016-07-11 | 30000 |\n",
    "| 4 | 02c083884c7d45b39cc68e1314fec56c | 0.50 | F | 20 | 2016-07-11 | 30000 |"
   ]
  },
  {
   "cell_type": "code",
   "execution_count": null,
   "metadata": {
    "collapsed": true
   },
   "outputs": [],
   "source": [
    "### BEGIN SOLUTION\n",
    "df_merged = pd.merge(\n",
    "    left=df_transactions,\n",
    "    right=df_profiles,\n",
    "    on='member_id',\n",
    "    how='inner'\n",
    ")\n",
    "### END SOLUTION\n",
    "\n",
    "df_merged.head(5)"
   ]
  },
  {
   "cell_type": "markdown",
   "metadata": {
    "id": "EdrK-mBsem7r",
    "nbgrader": {
     "grade": false,
     "locked": true,
     "solution": false
    }
   },
   "source": [
    "#### 🧭 Check Your Work\n",
    "\n",
    "- Once you're done, run the code cell below to test correctness.\n",
    "- ✔️ If the code cell runs without an error, you're good to move on.\n",
    "- ❌ If the code cell throws an error, go back and fix any incorrect parts."
   ]
  },
  {
   "cell_type": "code",
   "execution_count": null,
   "metadata": {
    "collapsed": true,
    "nbgrader": {
     "grade": true,
     "grade_id": "part-08",
     "locked": true,
     "points": "2",
     "solution": false
    }
   },
   "outputs": [],
   "source": [
    "# DO NOT CHANGE THE CODE IN THIS CELL\n",
    "df_check = df_transcript_backup.query('event == \"transaction\"').merge(\n",
    "    df_profiles_backup.query('gender == gender'),\n",
    "    on='member_id',\n",
    "    how='inner'\n",
    ").drop(columns=['event', 'time', 'offer_id'])\n",
    "df_check['age'] = df_check['age'].astype(np.int64)\n",
    "df_check['income'] = df_check['income'].astype(np.int64)\n",
    "df_merged_backup = df_check.copy()\n",
    "\n",
    "# Check result\n",
    "pd.testing.assert_frame_equal(df_merged.sort_values(df_merged.columns.to_list()).reset_index(drop=True),\n",
    "                              df_check.sort_values(df_check.columns.tolist()).reset_index(drop=True))"
   ]
  },
  {
   "cell_type": "markdown",
   "metadata": {
    "nbgrader": {
     "grade": false,
     "locked": true,
     "solution": false
    }
   },
   "source": [
    "---\n",
    "\n",
    "### 🎯 Part 9: Average transaction amount by gender\n",
    "\n",
    "#### 👇 Tasks\n",
    "\n",
    "- ✔️ Using `df_merged`, find the average transaction amount by gender.\n",
    "- ✔️ Store the summary DataFrame to `df_mean_by_gender`.\n",
    "- ✔️ `df_mean_by_gender` should have two non-index columns.\n",
    "    - `df_mean_by_gender.columns.to_list()` should print out `['gender', 'amount']`.\n",
    "- ✔️ `df_merged` should remain unaltered.\n",
    "\n",
    "#### 🚀 Hints\n",
    "\n",
    "```python\n",
    "my_result = df.groupby('some_column', as_index=False).agg({\n",
    "      'another_column': np.mean\n",
    "})\n",
    "```\n",
    "\n",
    "#### 🔑 Expected Output\n",
    "\n",
    "|  | gender | amount |\n",
    "|---:|---:|---|\n",
    "| 0 | F | 17.490077 |\n",
    "| 1 | M | 11.606600 |\n",
    "| 2 | O | 14.798731 |"
   ]
  },
  {
   "cell_type": "code",
   "execution_count": null,
   "metadata": {
    "collapsed": true
   },
   "outputs": [],
   "source": [
    "### BEGIN SOLUTION\n",
    "df_mean_by_gender = df_merged.groupby('gender', as_index=False).agg({\n",
    "      'amount': np.mean\n",
    "})\n",
    "### END SOLUTION\n",
    "\n",
    "df_mean_by_gender"
   ]
  },
  {
   "cell_type": "markdown",
   "metadata": {
    "id": "EdrK-mBsem7r",
    "nbgrader": {
     "grade": false,
     "locked": true,
     "solution": false
    }
   },
   "source": [
    "#### 🧭 Check Your Work\n",
    "\n",
    "- Once you're done, run the code cell below to test correctness.\n",
    "- ✔️ If the code cell runs without an error, you're good to move on.\n",
    "- ❌ If the code cell throws an error, go back and fix any incorrect parts."
   ]
  },
  {
   "cell_type": "code",
   "execution_count": null,
   "metadata": {
    "collapsed": true,
    "nbgrader": {
     "grade": true,
     "grade_id": "part-09",
     "locked": true,
     "points": "2",
     "solution": false
    }
   },
   "outputs": [],
   "source": [
    "# DO NOT CHANGE THE CODE IN THIS CELL\n",
    "df_check = pd.DataFrame({'gender': {0: 'F', 1: 'M', 2: 'O'},\n",
    " 'amount': {0: 17.490077356121578,\n",
    "  1: 11.606600269252956,\n",
    "  2: 14.798731049971932}})\n",
    "\n",
    "# Check result\n",
    "pd.testing.assert_frame_equal(df_mean_by_gender.sort_values(df_mean_by_gender.columns.to_list()).reset_index(drop=True),\n",
    "                              df_check.sort_values(df_check.columns.tolist()).reset_index(drop=True))"
   ]
  },
  {
   "cell_type": "markdown",
   "metadata": {
    "nbgrader": {
     "grade": false,
     "locked": true,
     "solution": false
    }
   },
   "source": [
    "---\n",
    "\n",
    "### 🎯 Part 10: Create age groups\n",
    "\n",
    "Next, you would like to find out the average transaction amount by different age groups(e.g., 10-20, 20-30, 30-40, etc). In order to perform that analysis, we'll create a new column containing the age group information.\n",
    "\n",
    "A fully-working code is given to you since we haven't learned `pd.cut()` in class. 🦊 `pd.cut()` converts a numerical values into a set of categorical values.\n",
    "\n",
    "#### 👇 Tasks\n",
    "\n",
    "- ✔️ Copy and run the code below.\n",
    "\n",
    "```python\n",
    "df_merged['age_group'] = pd.cut(\n",
    "    df_merged['age'],\n",
    "    bins=[10, 20, 30, 40, 50, 999],\n",
    "    labels=['10-20', '20-30', '30-40', '40-50', '50>']\n",
    ")\n",
    "\n",
    "df_merged.head(5)\n",
    "```"
   ]
  },
  {
   "cell_type": "code",
   "execution_count": null,
   "metadata": {
    "collapsed": true
   },
   "outputs": [],
   "source": [
    "### BEGIN SOLUTION\n",
    "df_merged['age_group'] = pd.cut(\n",
    "    df_merged['age'],\n",
    "    bins=[10, 20, 30, 40, 50, 999],\n",
    "    labels=['10-20', '20-30', '30-40', '40-50', '50>']\n",
    ")\n",
    "\n",
    "df_merged.head(5)\n",
    "### END SOLUTION"
   ]
  },
  {
   "cell_type": "markdown",
   "metadata": {
    "nbgrader": {
     "grade": false,
     "locked": true,
     "solution": false
    }
   },
   "source": [
    "#### 🔑 Expected Output\n",
    "\n",
    "|  | member_id | amount | gender | age | became_member_on | income | age_group |\n",
    "|---:|---:|---:|---:|---:|---:|---:|---:|\n",
    "| 0 | 02c083884c7d45b39cc68e1314fec56c | 0.83 | F | 20 | 2016-07-11 | 30000 | 10-20 |\n",
    "| 1 | 02c083884c7d45b39cc68e1314fec56c | 1.44 | F | 20 | 2016-07-11 | 30000 | 10-20 |\n",
    "| 2 | 02c083884c7d45b39cc68e1314fec56c | 4.56 | F | 20 | 2016-07-11 | 30000 | 10-20 |\n",
    "| 3 | 02c083884c7d45b39cc68e1314fec56c | 1.53 | F | 20 | 2016-07-11 | 30000 | 10-20 |\n",
    "| 4 | 02c083884c7d45b39cc68e1314fec56c | 0.50 | F | 20 | 2016-07-11 | 30000 | 10-20 |"
   ]
  },
  {
   "cell_type": "markdown",
   "metadata": {
    "id": "EdrK-mBsem7r",
    "nbgrader": {
     "grade": false,
     "locked": true,
     "solution": false
    }
   },
   "source": [
    "#### 🧭 Check Your Work\n",
    "\n",
    "- Once you're done, run the code cell below to test correctness.\n",
    "- ✔️ If the code cell runs without an error, you're good to move on.\n",
    "- ❌ If the code cell throws an error, go back and fix any incorrect parts."
   ]
  },
  {
   "cell_type": "code",
   "execution_count": null,
   "metadata": {
    "collapsed": true,
    "nbgrader": {
     "grade": true,
     "grade_id": "part-10",
     "locked": true,
     "points": "2",
     "solution": false
    }
   },
   "outputs": [],
   "source": [
    "# DO NOT CHANGE THE CODE IN THIS CELL\n",
    "df_check = df_merged.copy()\n",
    "age_groups = ['50>', '40-50', '30-40', '20-30', '10-20']\n",
    "age_groups.reverse()\n",
    "df_check['age_group'] = pd.cut(\n",
    "    df_check['AGE'.lower()],\n",
    "    bins=[x * 10 for x in [1, 2, 3, 4, 5]] + [1000],\n",
    "    labels=age_groups\n",
    ")\n",
    "\n",
    "# Check result\n",
    "pd.testing.assert_frame_equal(df_merged.sort_values(df_merged.columns.to_list()).reset_index(drop=True),\n",
    "                              df_check.sort_values(df_check.columns.tolist()).reset_index(drop=True))"
   ]
  },
  {
   "cell_type": "markdown",
   "metadata": {
    "nbgrader": {
     "grade": false,
     "locked": true,
     "solution": false
    }
   },
   "source": [
    "---\n",
    "\n",
    "### 🎯 Part 11: Average transaction amount by age group\n",
    "\n",
    "#### 👇 Tasks\n",
    "\n",
    "- ✔️ Using `df_merged`, find the average transaction amount by age group (`age_group` column).\n",
    "- ✔️ Store the summary DataFrame to `df_mean_by_age_group`.\n",
    "- ✔️ `df_mean_by_age_group` should contain two non-index columns.\n",
    "    - `df_mean_by_age_group.columns.to_list()` should print out `['age_group', 'amount']`.\n",
    "- ✔️ `df_merged` should remain unaltered.\n",
    "\n",
    "#### 🔑 Expected Output\n",
    "\n",
    "|    | age_group   |   amount |\n",
    "|---:|:------------|---------:|\n",
    "|  0 | 10-20       |  7.48039 |\n",
    "|  1 | 20-30       |  8.40717 |\n",
    "|  2 | 30-40       | 10.252   |\n",
    "|  3 | 40-50       | 13.4737  |\n",
    "|  4 | 50>         | 16.4099  |"
   ]
  },
  {
   "cell_type": "code",
   "execution_count": null,
   "metadata": {
    "collapsed": true
   },
   "outputs": [],
   "source": [
    "### BEGIN SOLUTION\n",
    "df_mean_by_age_group = df_merged.groupby('age_group', as_index=False).agg({\n",
    "      'amount': np.mean\n",
    "})\n",
    "### END SOLUTION\n",
    "\n",
    "df_mean_by_age_group"
   ]
  },
  {
   "cell_type": "markdown",
   "metadata": {
    "id": "EdrK-mBsem7r",
    "nbgrader": {
     "grade": false,
     "locked": true,
     "solution": false
    }
   },
   "source": [
    "#### 🧭 Check Your Work\n",
    "\n",
    "- Once you're done, run the code cell below to test correctness.\n",
    "- ✔️ If the code cell runs without an error, you're good to move on.\n",
    "- ❌ If the code cell throws an error, go back and fix any incorrect parts."
   ]
  },
  {
   "cell_type": "code",
   "execution_count": null,
   "metadata": {
    "collapsed": true,
    "nbgrader": {
     "grade": true,
     "grade_id": "part-11",
     "locked": true,
     "points": "2",
     "solution": false
    }
   },
   "outputs": [],
   "source": [
    "# DO NOT CHANGE THE CODE IN THIS CELL\n",
    "df_check = pd.DataFrame({'age_group': {0: '10-20', 1: '20-30', 2: '30-40', 3: '40-50', 4: '50>'},\n",
    " 'amount': {0: 7.4803926701570775,\n",
    "  1: 8.407165820643007,\n",
    "  2: 10.251975269699113,\n",
    "  3: 13.473675454312783,\n",
    "  4: 16.40988963903655}})\n",
    "\n",
    "df_mean_by_age_group_copy = df_mean_by_age_group.copy()\n",
    "df_mean_by_age_group_copy['age_group'] = df_mean_by_age_group_copy['age_group'].astype(str)\n",
    "\n",
    "# Check result\n",
    "pd.testing.assert_frame_equal(df_mean_by_age_group_copy.sort_values(df_mean_by_age_group_copy.columns.to_list()).reset_index(drop=True),\n",
    "                              df_check.sort_values(df_check.columns.tolist()).reset_index(drop=True))\n"
   ]
  },
  {
   "cell_type": "markdown",
   "metadata": {
    "nbgrader": {
     "grade": false,
     "locked": true,
     "solution": false
    }
   },
   "source": [
    "---\n",
    "\n",
    "### 🎯 Part 12: Create income range groups\n",
    "\n",
    "We're going to repeat the previous method on customers' income.\n",
    "\n",
    "#### 👇 Tasks\n",
    "\n",
    "- ✔️ Copy and run the code below.\n",
    "\n",
    "```python\n",
    "df_merged['income_group'] = pd.cut(\n",
    "    df_merged['income'],\n",
    "    bins=[0, 40000, 60000, 80000, 100000, 999999],\n",
    "    labels=['<40k', '40k-60k', '60k-80k', '80k-100k', '>100k']\n",
    ")\n",
    "\n",
    "df_merged.head(5)\n",
    "```"
   ]
  },
  {
   "cell_type": "code",
   "execution_count": null,
   "metadata": {
    "collapsed": true
   },
   "outputs": [],
   "source": [
    "### BEGIN SOLUTION\n",
    "df_merged['income_group'] = pd.cut(\n",
    "    df_merged['income'],\n",
    "    bins=[0, 40000, 60000, 80000, 100000, 999999],\n",
    "    labels=['<40k', '40k-60k', '60k-80k', '80k-100k', '>100k']\n",
    ")\n",
    "\n",
    "df_merged.head(5)\n",
    "### END SOLUTION"
   ]
  },
  {
   "cell_type": "markdown",
   "metadata": {
    "nbgrader": {
     "grade": false,
     "locked": true,
     "solution": false
    }
   },
   "source": [
    "#### 🔑 Expected Output\n",
    "\n",
    "|    | member_id                        |   amount | gender   |   age | became_member_on   |   income | age_group   | income_group   |\n",
    "|---:|:---------------------------------|---------:|:---------|------:|:-------------------|---------:|:------------|:---------------|\n",
    "|  0 | 02c083884c7d45b39cc68e1314fec56c |     0.83 | F        |    20 | 2016-07-11         |    30000 | 10-20       | <40k           |\n",
    "|  1 | 02c083884c7d45b39cc68e1314fec56c |     1.44 | F        |    20 | 2016-07-11         |    30000 | 10-20       | <40k           |\n",
    "|  2 | 02c083884c7d45b39cc68e1314fec56c |     4.56 | F        |    20 | 2016-07-11         |    30000 | 10-20       | <40k           |\n",
    "|  3 | 02c083884c7d45b39cc68e1314fec56c |     1.53 | F        |    20 | 2016-07-11         |    30000 | 10-20       | <40k           |\n",
    "|  4 | 02c083884c7d45b39cc68e1314fec56c |     0.5  | F        |    20 | 2016-07-11         |    30000 | 10-20       | <40k           |"
   ]
  },
  {
   "cell_type": "markdown",
   "metadata": {
    "id": "EdrK-mBsem7r",
    "nbgrader": {
     "grade": false,
     "locked": true,
     "solution": false
    }
   },
   "source": [
    "#### 🧭 Check Your Work\n",
    "\n",
    "- Once you're done, run the code cell below to test correctness.\n",
    "- ✔️ If the code cell runs without an error, you're good to move on.\n",
    "- ❌ If the code cell throws an error, go back and fix any incorrect parts."
   ]
  },
  {
   "cell_type": "code",
   "execution_count": null,
   "metadata": {
    "collapsed": true,
    "nbgrader": {
     "grade": true,
     "grade_id": "part-12",
     "locked": true,
     "points": "2",
     "solution": false
    }
   },
   "outputs": [],
   "source": [
    "# DO NOT CHANGE THE CODE IN THIS CELL\n",
    "df_check = df_merged.copy()\n",
    "income_groups = ['>100k', '80k-100k', '60k-80k', '40k-60k', '<40k']\n",
    "income_groups.reverse()\n",
    "df_check['income_group'] = pd.cut(\n",
    "    df_check['INCOME'.lower()],\n",
    "    bins=[x * 10000 for x in [0, 4, 6, 8, 10]] + [999999],\n",
    "    labels=income_groups\n",
    ")\n",
    "\n",
    "# Check result\n",
    "pd.testing.assert_frame_equal(df_merged.sort_values(df_merged.columns.to_list()).reset_index(drop=True),\n",
    "                              df_check.sort_values(df_check.columns.tolist()).reset_index(drop=True))"
   ]
  },
  {
   "cell_type": "markdown",
   "metadata": {
    "nbgrader": {
     "grade": false,
     "locked": true,
     "solution": false
    }
   },
   "source": [
    "---\n",
    "\n",
    "### 🎯 Part 13: Average transaction amount by income group\n",
    "\n",
    "#### 👇 Tasks\n",
    "\n",
    "- ✔️ Using `df_merged`, find the average transaction amount by income group (`income_group` column).\n",
    "- ✔️ Store the summary DataFrame to `df_mean_by_income_group`.\n",
    "- ✔️ `df_mean_by_income_group` should contain two non-index columns.\n",
    "    - `df_mean_by_income_group.columns.to_list()` should print out `['income_group', 'amount']`.\n",
    "- ✔️ `df_merged` should remain unaltered.\n",
    "\n",
    "#### 🔑 Expected Output\n",
    "\n",
    "|    | income_group   |   amount |\n",
    "|---:|:---------------|---------:|\n",
    "|  0 | <40k           |  6.19841 |\n",
    "|  1 | 40k-60k        |  9.3538  |\n",
    "|  2 | 60k-80k        | 15.1868  |\n",
    "|  3 | 80k-100k       | 27.4484  |\n",
    "|  4 | >100k          | 30.897   |"
   ]
  },
  {
   "cell_type": "code",
   "execution_count": null,
   "metadata": {
    "collapsed": true
   },
   "outputs": [],
   "source": [
    "### BEGIN SOLUTION\n",
    "df_mean_by_income_group = df_merged.groupby('income_group', as_index=False).agg({\n",
    "      'amount': np.mean\n",
    "})\n",
    "### END SOLUTION\n",
    "\n",
    "df_mean_by_income_group"
   ]
  },
  {
   "cell_type": "markdown",
   "metadata": {
    "id": "EdrK-mBsem7r",
    "nbgrader": {
     "grade": false,
     "locked": true,
     "solution": false
    }
   },
   "source": [
    "#### 🧭 Check Your Work\n",
    "\n",
    "- Once you're done, run the code cell below to test correctness.\n",
    "- ✔️ If the code cell runs without an error, you're good to move on.\n",
    "- ❌ If the code cell throws an error, go back and fix any incorrect parts."
   ]
  },
  {
   "cell_type": "code",
   "execution_count": null,
   "metadata": {
    "collapsed": true,
    "nbgrader": {
     "grade": true,
     "grade_id": "part-13",
     "locked": true,
     "points": "3",
     "solution": false
    }
   },
   "outputs": [],
   "source": [
    "# DO NOT CHANGE THE CODE IN THIS CELL\n",
    "df_check = pd.DataFrame({'income_group': {0: '<40k',\n",
    "  1: '40k-60k',\n",
    "  2: '60k-80k',\n",
    "  3: '80k-100k',\n",
    "  4: '>100k'},\n",
    " 'amount': {0: 6.198411429621467,\n",
    "  1: 9.353795970427743,\n",
    "  2: 15.186842961106798,\n",
    "  3: 27.44839995065385,\n",
    "  4: 30.897049126815634}})\n",
    "\n",
    "df_mean_by_income_group_copy = df_mean_by_income_group.copy()\n",
    "df_mean_by_income_group_copy['income_group'] = df_mean_by_income_group_copy['income_group'].astype(str)\n",
    "\n",
    "# Check result\n",
    "pd.testing.assert_frame_equal(df_mean_by_income_group_copy.sort_values(df_mean_by_income_group_copy.columns.to_list()).reset_index(drop=True),\n",
    "                              df_check.sort_values(df_check.columns.tolist()).reset_index(drop=True))"
   ]
  },
  {
   "cell_type": "markdown",
   "metadata": {
    "nbgrader": {
     "grade": false,
     "locked": true,
     "solution": false
    }
   },
   "source": [
    "---\n",
    "\n",
    "### 🎯 Part 14: Top 5 customers by total purchase amount\n",
    "\n",
    "This will be by far the most difficult task in this case study! 🤡\n",
    "\n",
    "#### 👇 Tasks\n",
    "\n",
    "- ✔️ Using `df_merged`, find the top 5 customers with the largest total purchase amount.\n",
    "- ✔️ For each of the top 5 customers, list the member ID and total amount spent in a new DataFrame named `df_top5`.\n",
    "- ✔️ `df_top5` should contain two non-index columns.\n",
    "    - `df_top5.columns.to_list()` should print out `['member_id', 'amount']`.\n",
    "    \n",
    "#### 🔑 Expected Output\n",
    "\n",
    "|       | member_id                        |   amount |\n",
    "|------:|:---------------------------------|---------:|\n",
    "|  3427 | 3c8d541112a74af99e88abbd0692f00e |  1608.69 |\n",
    "| 13706 | f1d65ae63f174b8f80fa063adcaa63b7 |  1365.66 |\n",
    "|  9985 | ae6f43089b674728a50b8727252d3305 |  1327.74 |\n",
    "|  5574 | 626df8678e2a4953b9098246418c9cfa |  1321.42 |\n",
    "|  6551 | 73afdeca19e349b98f09e928644610f8 |  1319.97 |"
   ]
  },
  {
   "cell_type": "code",
   "execution_count": null,
   "metadata": {
    "collapsed": true
   },
   "outputs": [],
   "source": [
    "### BEGIN SOLUTION\n",
    "df_top5 = df_merged.groupby('member_id', as_index=False).agg({\n",
    "    'amount': 'sum'\n",
    "}).sort_values('amount', ascending=False).head(5)\n",
    "### END SOLUTION\n",
    "\n",
    "df_top5"
   ]
  },
  {
   "cell_type": "markdown",
   "metadata": {
    "id": "EdrK-mBsem7r",
    "nbgrader": {
     "grade": false,
     "locked": true,
     "solution": false
    }
   },
   "source": [
    "#### 🧭 Check Your Work\n",
    "\n",
    "- Once you're done, run the code cell below to test correctness.\n",
    "- ✔️ If the code cell runs without an error, you're good to move on.\n",
    "- ❌ If the code cell throws an error, go back and fix any incorrect parts."
   ]
  },
  {
   "cell_type": "code",
   "execution_count": null,
   "metadata": {
    "collapsed": true,
    "nbgrader": {
     "grade": true,
     "grade_id": "part-14",
     "locked": true,
     "points": "3",
     "solution": false
    }
   },
   "outputs": [],
   "source": [
    "# DO NOT CHANGE THE CODE IN THIS CELL\n",
    "df_check = pd.DataFrame({'member_id': {3427: '3c8d541112a74af99e88abbd0692f00e',\n",
    "  13706: 'f1d65ae63f174b8f80fa063adcaa63b7',\n",
    "  9985: 'ae6f43089b674728a50b8727252d3305',\n",
    "  5574: '626df8678e2a4953b9098246418c9cfa',\n",
    "  6551: '73afdeca19e349b98f09e928644610f8'},\n",
    " 'amount': {3427: 1608.69,\n",
    "  13706: 1365.6600000000003,\n",
    "  9985: 1327.7399999999998,\n",
    "  5574: 1321.42,\n",
    "  6551: 1319.97}})\n",
    "\n",
    "# Check result\n",
    "pd.testing.assert_frame_equal(df_top5.reset_index(drop=True),\n",
    "                              df_check.reset_index(drop=True))"
   ]
  },
  {
   "cell_type": "markdown",
   "metadata": {
    "nbgrader": {
     "grade": false,
     "locked": true,
     "solution": false
    }
   },
   "source": [
    "---\n",
    "\n",
    "## 🍸 Congratulations!\n",
    "\n",
    "If you've made it this far without an error, go ahead and submit your notebook."
   ]
  }
 ],
 "metadata": {
  "kernelspec": {
   "display_name": "Python 3 [3.7]",
   "language": "python",
   "name": "python3"
  },
  "language_info": {
   "codemirror_mode": {
    "name": "ipython",
    "version": 3
   },
   "file_extension": ".py",
   "mimetype": "text/x-python",
   "name": "python",
   "nbconvert_exporter": "python",
   "pygments_lexer": "ipython3",
   "version": "3.7.5"
  }
 },
 "nbformat": 4,
 "nbformat_minor": 5
}
