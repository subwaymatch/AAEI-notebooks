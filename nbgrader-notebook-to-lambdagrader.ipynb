{
 "cells": [
  {
   "cell_type": "code",
   "execution_count": 2,
   "id": "ca9cdd45-d2ee-40b4-b0ef-7f8f1fd327f4",
   "metadata": {},
   "outputs": [],
   "source": [
    "import glob\n",
    "import nbformat\n",
    "from nbconvert import HTMLExporter\n",
    "from nbconvert.preprocessors import ExecutePreprocessor, CellExecutionError\n",
    "import shutil\n",
    "import json\n",
    "import pandas as pd\n",
    "from pathlib import Path\n",
    "from datetime import datetime\n",
    "import sys\n",
    "import platform\n",
    "import re"
   ]
  },
  {
   "cell_type": "code",
   "execution_count": 3,
   "id": "3d1680c0-45e4-4623-bfbd-383fae22d184",
   "metadata": {},
   "outputs": [
    {
     "data": {
      "text/plain": [
       "['.\\\\intro-to-jupyter-and-pandas.ipynb',\n",
       " '.\\\\nbgrader-notebook-to-lambdagrader.ipynb',\n",
       " '.\\\\starbucks-app-customers.ipynb']"
      ]
     },
     "execution_count": 3,
     "metadata": {},
     "output_type": "execute_result"
    }
   ],
   "source": [
    "glob.glob('./*.ipynb')"
   ]
  },
  {
   "cell_type": "code",
   "execution_count": 5,
   "id": "35d8c24d-fadd-4956-bfed-08b048b2d2d2",
   "metadata": {},
   "outputs": [
    {
     "name": "stdout",
     "output_type": "stream",
     "text": [
      "=============================\n",
      "part-01\n",
      "2\n",
      "<class 'str'>\n",
      "=============================\n",
      "part-02\n",
      "2\n",
      "<class 'str'>\n",
      "=============================\n",
      "part-03\n",
      "2\n",
      "<class 'str'>\n",
      "=============================\n",
      "part-04\n",
      "2\n",
      "<class 'str'>\n",
      "=============================\n",
      "part-05\n",
      "2\n",
      "<class 'str'>\n",
      "=============================\n",
      "part-06\n",
      "2\n",
      "<class 'str'>\n",
      "=============================\n",
      "part-07\n",
      "2\n",
      "<class 'str'>\n",
      "=============================\n",
      "part-08\n",
      "2\n",
      "<class 'str'>\n",
      "=============================\n",
      "part-09\n",
      "2\n",
      "<class 'str'>\n",
      "=============================\n",
      "part-10\n",
      "2\n",
      "<class 'str'>\n",
      "=============================\n",
      "part-11\n",
      "2\n",
      "<class 'str'>\n",
      "=============================\n",
      "part-12\n",
      "2\n",
      "<class 'str'>\n",
      "=============================\n",
      "part-13\n",
      "3\n",
      "<class 'str'>\n",
      "=============================\n",
      "part-14\n",
      "3\n",
      "<class 'str'>\n"
     ]
    }
   ],
   "source": [
    "notebook_path = 'starbucks-app-customers.ipynb'\n",
    "\n",
    "nb = nbformat.read(notebook_path, as_version=4)\n",
    "\n",
    "for cell in nb.cells:\n",
    "    if cell.cell_type == 'code' and 'nbgrader' in cell.metadata:\n",
    "        if 'grade_id' in cell.metadata.nbgrader and 'points' in cell.metadata.nbgrader:\n",
    "            print('=============================')\n",
    "            print(cell.metadata.nbgrader.grade_id)\n",
    "            print(cell.metadata.nbgrader.points)\n",
    "            print(type(cell.source))\n",
    "\n",
    "            cell.source = re.sub('# DO NOT CHANGE THE CODE IN THIS CELL\\n', '', cell.source)\n",
    "\n",
    "            cell_header = '# DO NOT CHANGE THE CODE IN THIS CELL\\n'\n",
    "            cell_header += f\"_test_case = '{cell.metadata.nbgrader.grade_id}'\\n\"\n",
    "            cell_header += f\"_points = {cell.metadata.nbgrader.points}\\n\\n\"\n",
    "\n",
    "            cell.source = cell_header + cell.source\n",
    "            cell.metadata = {}\n",
    "        else:\n",
    "            cell.metadata = {}\n",
    "\n",
    "# save converted notebook\n",
    "converted_notebook_path = notebook_path.replace('.ipynb', '-lambdagrader.ipynb')\n",
    "with open(converted_notebook_path, mode='w', encoding='utf-8') as f:\n",
    "    nbformat.write(nb, f)\n"
   ]
  }
 ],
 "metadata": {
  "kernelspec": {
   "display_name": "Python 3 (ipykernel)",
   "language": "python",
   "name": "python3"
  },
  "language_info": {
   "codemirror_mode": {
    "name": "ipython",
    "version": 3
   },
   "file_extension": ".py",
   "mimetype": "text/x-python",
   "name": "python",
   "nbconvert_exporter": "python",
   "pygments_lexer": "ipython3",
   "version": "3.10.9"
  }
 },
 "nbformat": 4,
 "nbformat_minor": 5
}
