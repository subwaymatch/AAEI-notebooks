{
 "cells": [
  {
   "cell_type": "markdown",
   "metadata": {
    "nbgrader": {
     "grade": false,
     "locked": true,
     "solution": false
    }
   },
   "source": [
    "# Introduction to Jupyter Notebook and Pandas"
   ]
  },
  {
   "cell_type": "markdown",
   "metadata": {
    "nbgrader": {
     "grade": false,
     "locked": true,
     "solution": false
    }
   },
   "source": [
    "## What is a Jupyter Notebook?\n",
    "\n",
    "A [Jupyter](https://jupyter.org/) notebook is a document that can contain live code w/ results, visualizations, and rich text. It is widely used in data science and analytics. The cell below is a *code* cell. It contains a block of executable code.\n",
    "\n",
    "Run the code below by clicking on the cell below and clicking the \"Run\" button on top (▶)."
   ]
  },
  {
   "cell_type": "code",
   "execution_count": 1,
   "metadata": {},
   "outputs": [
    {
     "name": "stdout",
     "output_type": "stream",
     "text": [
      "30\n"
     ]
    }
   ],
   "source": [
    "print(10 + 20)"
   ]
  },
  {
   "cell_type": "markdown",
   "metadata": {
    "nbgrader": {
     "grade": false,
     "locked": true,
     "solution": false
    }
   },
   "source": [
    "### Exercise 1\n",
    "\n",
    "We will first write some Python code to become familiar with Jupyter notebooks.\n",
    "\n",
    "Complete the code cell below to find the sum of all values in `my_list`. Store the result in a new variable named `result`."
   ]
  },
  {
   "cell_type": "code",
   "execution_count": 2,
   "metadata": {},
   "outputs": [
    {
     "name": "stdout",
     "output_type": "stream",
     "text": [
      "478\n"
     ]
    }
   ],
   "source": [
    "my_list = [11, 20, 52, 91, 90, 75, 74, 20, 21, 10, 14]\n",
    "\n",
    "### BEGIN SOLUTION\n",
    "result = 0\n",
    "\n",
    "for num in my_list:\n",
    "    result = result + num\n",
    "### END SOLUTION\n",
    "\n",
    "print(result)"
   ]
  },
  {
   "cell_type": "markdown",
   "metadata": {
    "nbgrader": {
     "grade": false,
     "locked": true,
     "solution": false
    }
   },
   "source": [
    "#### 🧭 Check Your Work\n",
    "\n",
    "Once you're done, run the code cell below to test correctness.\n",
    "\n",
    "- ✔️ If the code cell runs without an error, you're good to move on.\n",
    "- ❌ If the code cell throws an error, go back and fix any incorrect parts."
   ]
  },
  {
   "cell_type": "code",
   "execution_count": 3,
   "metadata": {
    "collapsed": true,
    "nbgrader": {
     "grade": true,
     "grade_id": "exercise-01",
     "locked": true,
     "points": "3",
     "solution": false
    }
   },
   "outputs": [],
   "source": [
    "# Exercise 1 Autograder\n",
    "import unittest\n",
    "\n",
    "tc = unittest.TestCase()\n",
    "\n",
    "tc.assertEqual(result, 478)"
   ]
  },
  {
   "cell_type": "markdown",
   "metadata": {
    "nbgrader": {
     "grade": false,
     "locked": true,
     "solution": false
    }
   },
   "source": [
    "## Introduction to Pandas\n",
    "\n",
    "Pandas is a Python *library* for data manipulation and analysis. Although it's used universally in data-related programming applications, it was initially developed for financial analysis by [AQR Capital Management](https://www.aqr.com/).\n",
    "\n",
    "Note: A *library* in the context of programming is a collection of functions (and other data) that others have already written for you.\n",
    "\n",
    "Pandas is popular for many reasons:\n",
    "\n",
    "1. 🏃🏿‍♀️ It's fast (for most cases where the dataset can be loaded to your memory).\n",
    "2. 🪒 It supports most of the features required for data manipulation.\n",
    "3. 💡 Write less code. Get more done."
   ]
  },
  {
   "cell_type": "markdown",
   "metadata": {
    "nbgrader": {
     "grade": false,
     "locked": true,
     "solution": false
    }
   },
   "source": [
    "### Creating a Pandas DataFrame\n",
    "\n",
    "The first step in working with Pandas is to *import* the library. The code cell below contains code to import the `pandas` library.\n",
    "\n",
    "Run the code cell below."
   ]
  },
  {
   "cell_type": "code",
   "execution_count": 4,
   "metadata": {
    "collapsed": true
   },
   "outputs": [],
   "source": [
    "import pandas as pd"
   ]
  },
  {
   "cell_type": "markdown",
   "metadata": {
    "nbgrader": {
     "grade": false,
     "locked": true,
     "solution": false
    }
   },
   "source": [
    "Once we load the library, we can start creating tabular data using Pandas. For the purpose of this tutorial, we'll create the following tabular dataset.\n",
    "\n",
    "| product | quantity | unit_price |\n",
    "|---:|---:|---:|\n",
    "| N95 Face Mask | 10 | 2.50 |\n",
    "| Hand Sanitizer | 2 | 4.50 |\n",
    "| Alcohol Wipe | 20 | 3.75 |"
   ]
  },
  {
   "cell_type": "markdown",
   "metadata": {
    "nbgrader": {
     "grade": false,
     "locked": true,
     "solution": false
    }
   },
   "source": [
    "### Exercise 2\n",
    "\n",
    "Use the following code to create a `DataFrame` named `orders`.\n",
    "\n",
    "```python\n",
    "df_orders = pd.DataFrame({\n",
    "    'product': ['N95 Face Mask', 'Hand Sanitizer', 'Alcohol Wipe'],\n",
    "    'quantity': [10, 2, 20],\n",
    "    'unit_price': [2.5, 4.5, 3.75]\n",
    "})\n",
    "\n",
    "display(df_orders)\n",
    "```"
   ]
  },
  {
   "cell_type": "code",
   "execution_count": 5,
   "metadata": {},
   "outputs": [
    {
     "data": {
      "text/html": [
       "<div>\n",
       "<style scoped>\n",
       "    .dataframe tbody tr th:only-of-type {\n",
       "        vertical-align: middle;\n",
       "    }\n",
       "\n",
       "    .dataframe tbody tr th {\n",
       "        vertical-align: top;\n",
       "    }\n",
       "\n",
       "    .dataframe thead th {\n",
       "        text-align: right;\n",
       "    }\n",
       "</style>\n",
       "<table border=\"1\" class=\"dataframe\">\n",
       "  <thead>\n",
       "    <tr style=\"text-align: right;\">\n",
       "      <th></th>\n",
       "      <th>product</th>\n",
       "      <th>quantity</th>\n",
       "      <th>unit_price</th>\n",
       "    </tr>\n",
       "  </thead>\n",
       "  <tbody>\n",
       "    <tr>\n",
       "      <th>0</th>\n",
       "      <td>N95 Face Mask</td>\n",
       "      <td>10</td>\n",
       "      <td>2.50</td>\n",
       "    </tr>\n",
       "    <tr>\n",
       "      <th>1</th>\n",
       "      <td>Hand Sanitizer</td>\n",
       "      <td>2</td>\n",
       "      <td>4.50</td>\n",
       "    </tr>\n",
       "    <tr>\n",
       "      <th>2</th>\n",
       "      <td>Alcohol Wipe</td>\n",
       "      <td>20</td>\n",
       "      <td>3.75</td>\n",
       "    </tr>\n",
       "  </tbody>\n",
       "</table>\n",
       "</div>"
      ],
      "text/plain": [
       "          product  quantity  unit_price\n",
       "0   N95 Face Mask        10        2.50\n",
       "1  Hand Sanitizer         2        4.50\n",
       "2    Alcohol Wipe        20        3.75"
      ]
     },
     "metadata": {},
     "output_type": "display_data"
    }
   ],
   "source": [
    "# Type the code above in this cell\n",
    "### BEGIN SOLUTION\n",
    "df_orders = pd.DataFrame({\n",
    "    'product': ['N95 Face Mask', 'Hand Sanitizer', 'Alcohol Wipe'],\n",
    "    'quantity': [10, 2, 20],\n",
    "    'unit_price': [2.5, 4.5, 3.75]\n",
    "})\n",
    "\n",
    "display(df_orders)\n",
    "### END SOLUTION"
   ]
  },
  {
   "cell_type": "markdown",
   "metadata": {
    "nbgrader": {
     "grade": false,
     "locked": true,
     "solution": false
    }
   },
   "source": [
    "#### 🧭 Check Your Work\n",
    "\n",
    "Once you're done, run the code cell below to test correctness.\n",
    "\n",
    "- ✔️ If the code cell runs without an error, you're good to move on.\n",
    "- ❌ If the code cell throws an error, go back and fix any incorrect parts."
   ]
  },
  {
   "cell_type": "code",
   "execution_count": 6,
   "metadata": {
    "collapsed": true,
    "nbgrader": {
     "grade": true,
     "grade_id": "exercise-02",
     "locked": true,
     "points": "3",
     "solution": false
    }
   },
   "outputs": [],
   "source": [
    "# Exercise 2 Autograder\n",
    "import unittest\n",
    "\n",
    "df_orders_SOL = pd.DataFrame({'product': {0: 'N95 Face Mask', 1: 'Hand Sanitizer', 2: 'Alcohol Wipe'},\n",
    " 'quantity': {0: 10, 1: 2, 2: 20},\n",
    " 'unit_price': {0: 2.5, 1: 4.5, 2: 3.75}});\n",
    "\n",
    "pd.testing.assert_frame_equal(\n",
    "    df_orders,\n",
    "    df_orders_SOL\n",
    ")"
   ]
  },
  {
   "cell_type": "markdown",
   "metadata": {
    "nbgrader": {
     "grade": false,
     "locked": true,
     "solution": false
    }
   },
   "source": [
    "### Print a concise summary of a `DataFrame`\n",
    "\n",
    "👉 A common first step in working with a DataFrame is to use the `info()` function. `info()` prints a concise summary of a DataFrame.\n",
    "\n",
    "Type and run `df_orders.info()` in the code cell below."
   ]
  },
  {
   "cell_type": "code",
   "execution_count": 7,
   "metadata": {},
   "outputs": [
    {
     "name": "stdout",
     "output_type": "stream",
     "text": [
      "<class 'pandas.core.frame.DataFrame'>\n",
      "RangeIndex: 3 entries, 0 to 2\n",
      "Data columns (total 3 columns):\n",
      " #   Column      Non-Null Count  Dtype  \n",
      "---  ------      --------------  -----  \n",
      " 0   product     3 non-null      object \n",
      " 1   quantity    3 non-null      int64  \n",
      " 2   unit_price  3 non-null      float64\n",
      "dtypes: float64(1), int64(1), object(1)\n",
      "memory usage: 200.0+ bytes\n"
     ]
    }
   ],
   "source": [
    "### BEGIN SOLUTION\n",
    "df_orders.info()\n",
    "### END SOLUTION"
   ]
  },
  {
   "cell_type": "markdown",
   "metadata": {
    "nbgrader": {
     "grade": false,
     "locked": true,
     "solution": false
    }
   },
   "source": [
    "The `info()` function can be useful when you work with a dataset with a large number of rows and columns. The output tells us the number of rows, columns, and the data type for each column. We won't worry too much about interpreting the result at the moment.\n",
    "\n",
    "```\n",
    "<class 'pandas.core.frame.DataFrame'>\n",
    "RangeIndex: 3 entries, 0 to 2\n",
    "Data columns (total 3 columns):\n",
    " #   Column      Non-Null Count  Dtype  \n",
    "---  ------      --------------  -----  \n",
    " 0   product     3 non-null      object \n",
    " 1   quantity    3 non-null      int64  \n",
    " 2   unit_price  3 non-null      float64\n",
    "dtypes: float64(1), int64(1), object(1)\n",
    "memory usage: 200.0+ bytes\n",
    "```"
   ]
  },
  {
   "cell_type": "markdown",
   "metadata": {
    "nbgrader": {
     "grade": false,
     "locked": true,
     "solution": false
    }
   },
   "source": [
    "### Exercise 3\n",
    "\n",
    "Create a DataFrame named `df_orders2` with the following data. Remember, Python is case-sensitive.\n",
    "\n",
    "| product | quantity | unit_price |\n",
    "|---:|---:|---:|\n",
    "| Packing Tape | 100 | 3.50 |\n",
    "| Large Box | 500 | 1.25 |\n",
    "| Bubble Wrap | 200 | 5.00 |"
   ]
  },
  {
   "cell_type": "code",
   "execution_count": 8,
   "metadata": {
    "nbgrader": {
     "grade": false,
     "locked": false,
     "solution": false
    }
   },
   "outputs": [
    {
     "data": {
      "text/html": [
       "<div>\n",
       "<style scoped>\n",
       "    .dataframe tbody tr th:only-of-type {\n",
       "        vertical-align: middle;\n",
       "    }\n",
       "\n",
       "    .dataframe tbody tr th {\n",
       "        vertical-align: top;\n",
       "    }\n",
       "\n",
       "    .dataframe thead th {\n",
       "        text-align: right;\n",
       "    }\n",
       "</style>\n",
       "<table border=\"1\" class=\"dataframe\">\n",
       "  <thead>\n",
       "    <tr style=\"text-align: right;\">\n",
       "      <th></th>\n",
       "      <th>product</th>\n",
       "      <th>quantity</th>\n",
       "      <th>unit_price</th>\n",
       "    </tr>\n",
       "  </thead>\n",
       "  <tbody>\n",
       "    <tr>\n",
       "      <th>0</th>\n",
       "      <td>Packing Tape</td>\n",
       "      <td>100</td>\n",
       "      <td>3.50</td>\n",
       "    </tr>\n",
       "    <tr>\n",
       "      <th>1</th>\n",
       "      <td>Large Box</td>\n",
       "      <td>500</td>\n",
       "      <td>1.25</td>\n",
       "    </tr>\n",
       "    <tr>\n",
       "      <th>2</th>\n",
       "      <td>Bubble Wrap</td>\n",
       "      <td>200</td>\n",
       "      <td>5.00</td>\n",
       "    </tr>\n",
       "  </tbody>\n",
       "</table>\n",
       "</div>"
      ],
      "text/plain": [
       "        product  quantity  unit_price\n",
       "0  Packing Tape       100        3.50\n",
       "1     Large Box       500        1.25\n",
       "2   Bubble Wrap       200        5.00"
      ]
     },
     "metadata": {},
     "output_type": "display_data"
    }
   ],
   "source": [
    "# Type the code above in this cell\n",
    "### BEGIN SOLUTION\n",
    "df_orders2 = pd.DataFrame({\n",
    "    'product': ['Packing Tape', 'Large Box', 'Bubble Wrap'],\n",
    "    'quantity': [100, 500, 200],\n",
    "    'unit_price': [3.5, 1.25, 5]\n",
    "})\n",
    "\n",
    "display(df_orders2)\n",
    "### END SOLUTION"
   ]
  },
  {
   "cell_type": "markdown",
   "metadata": {
    "nbgrader": {
     "grade": false,
     "locked": true,
     "solution": false
    }
   },
   "source": [
    "#### 🧭 Check Your Work\n",
    "\n",
    "Once you're done, run the code cell below to test correctness.\n",
    "\n",
    "- ✔️ If the code cell runs without an error, you're good to move on.\n",
    "- ❌ If the code cell throws an error, go back and fix any incorrect parts."
   ]
  },
  {
   "cell_type": "code",
   "execution_count": 9,
   "metadata": {
    "collapsed": true,
    "nbgrader": {
     "grade": true,
     "grade_id": "exercise-03",
     "locked": true,
     "points": "4",
     "solution": false
    }
   },
   "outputs": [],
   "source": [
    "# Exercise 3 Autograder\n",
    "import unittest\n",
    "\n",
    "df_orders2_SOL = pd.DataFrame({'product': {0: 'Packing Tape', 1: 'Large Box', 2: 'Bubble Wrap'},\n",
    " 'quantity': {0: 100, 1: 500, 2: 200},\n",
    " 'unit_price': {0: 3.5, 1: 1.25, 2: 5.0}});\n",
    "\n",
    "pd.testing.assert_frame_equal(\n",
    "    df_orders2,\n",
    "    df_orders2_SOL\n",
    ")"
   ]
  },
  {
   "cell_type": "markdown",
   "metadata": {
    "nbgrader": {
     "grade": false,
     "locked": true,
     "solution": false
    }
   },
   "source": [
    "👉 This is the end of the tutorial. Go ahead and submit the notebook!"
   ]
  }
 ],
 "metadata": {
  "kernelspec": {
   "display_name": "Python 3 [3.7]",
   "language": "python",
   "name": "python3"
  },
  "language_info": {
   "codemirror_mode": {
    "name": "ipython",
    "version": 3
   },
   "file_extension": ".py",
   "mimetype": "text/x-python",
   "name": "python",
   "nbconvert_exporter": "python",
   "pygments_lexer": "ipython3",
   "version": "3.7.5"
  }
 },
 "nbformat": 4,
 "nbformat_minor": 5
}
